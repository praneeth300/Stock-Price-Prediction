{
  "nbformat": 4,
  "nbformat_minor": 0,
  "metadata": {
    "kernelspec": {
      "display_name": "Python 3",
      "language": "python",
      "name": "python3"
    },
    "language_info": {
      "codemirror_mode": {
        "name": "ipython",
        "version": 3
      },
      "file_extension": ".py",
      "mimetype": "text/x-python",
      "name": "python",
      "nbconvert_exporter": "python",
      "pygments_lexer": "ipython3",
      "version": "3.8.3"
    },
    "colab": {
      "name": "Stock Market Prediction.ipynb",
      "provenance": []
    },
    "accelerator": "GPU"
  },
  "cells": [
    {
      "cell_type": "markdown",
      "metadata": {
        "id": "SWHFb4xlyITS"
      },
      "source": [
        "Stock Market Price Prediction"
      ]
    },
    {
      "cell_type": "code",
      "metadata": {
        "id": "rB6hweEBq20f"
      },
      "source": [
        "#Import the library\n",
        "import pandas as pd\n",
        "import numpy as np"
      ],
      "execution_count": 1,
      "outputs": []
    },
    {
      "cell_type": "code",
      "metadata": {
        "id": "E6Z3WhE2q20r"
      },
      "source": [
        "#Get the path\n",
        "path='https://raw.githubusercontent.com/krishnaik06/Stock-MArket-Forecasting/master/AAPL.csv'\n",
        "#Read the path\n",
        "df=pd.read_csv(path)"
      ],
      "execution_count": 2,
      "outputs": []
    },
    {
      "cell_type": "code",
      "metadata": {
        "id": "FnUVPI5gq20y",
        "outputId": "00d93293-7e65-43df-ff90-09c6ee970a1d",
        "colab": {
          "base_uri": "https://localhost:8080/",
          "height": 306
        }
      },
      "source": [
        "#Load the data\n",
        "df.head()"
      ],
      "execution_count": 3,
      "outputs": [
        {
          "output_type": "execute_result",
          "data": {
            "text/html": [
              "<div>\n",
              "<style scoped>\n",
              "    .dataframe tbody tr th:only-of-type {\n",
              "        vertical-align: middle;\n",
              "    }\n",
              "\n",
              "    .dataframe tbody tr th {\n",
              "        vertical-align: top;\n",
              "    }\n",
              "\n",
              "    .dataframe thead th {\n",
              "        text-align: right;\n",
              "    }\n",
              "</style>\n",
              "<table border=\"1\" class=\"dataframe\">\n",
              "  <thead>\n",
              "    <tr style=\"text-align: right;\">\n",
              "      <th></th>\n",
              "      <th>Unnamed: 0</th>\n",
              "      <th>symbol</th>\n",
              "      <th>date</th>\n",
              "      <th>close</th>\n",
              "      <th>high</th>\n",
              "      <th>low</th>\n",
              "      <th>open</th>\n",
              "      <th>volume</th>\n",
              "      <th>adjClose</th>\n",
              "      <th>adjHigh</th>\n",
              "      <th>adjLow</th>\n",
              "      <th>adjOpen</th>\n",
              "      <th>adjVolume</th>\n",
              "      <th>divCash</th>\n",
              "      <th>splitFactor</th>\n",
              "    </tr>\n",
              "  </thead>\n",
              "  <tbody>\n",
              "    <tr>\n",
              "      <th>0</th>\n",
              "      <td>0</td>\n",
              "      <td>AAPL</td>\n",
              "      <td>2015-05-27 00:00:00+00:00</td>\n",
              "      <td>132.045</td>\n",
              "      <td>132.260</td>\n",
              "      <td>130.05</td>\n",
              "      <td>130.34</td>\n",
              "      <td>45833246</td>\n",
              "      <td>121.682558</td>\n",
              "      <td>121.880685</td>\n",
              "      <td>119.844118</td>\n",
              "      <td>120.111360</td>\n",
              "      <td>45833246</td>\n",
              "      <td>0.0</td>\n",
              "      <td>1.0</td>\n",
              "    </tr>\n",
              "    <tr>\n",
              "      <th>1</th>\n",
              "      <td>1</td>\n",
              "      <td>AAPL</td>\n",
              "      <td>2015-05-28 00:00:00+00:00</td>\n",
              "      <td>131.780</td>\n",
              "      <td>131.950</td>\n",
              "      <td>131.10</td>\n",
              "      <td>131.86</td>\n",
              "      <td>30733309</td>\n",
              "      <td>121.438354</td>\n",
              "      <td>121.595013</td>\n",
              "      <td>120.811718</td>\n",
              "      <td>121.512076</td>\n",
              "      <td>30733309</td>\n",
              "      <td>0.0</td>\n",
              "      <td>1.0</td>\n",
              "    </tr>\n",
              "    <tr>\n",
              "      <th>2</th>\n",
              "      <td>2</td>\n",
              "      <td>AAPL</td>\n",
              "      <td>2015-05-29 00:00:00+00:00</td>\n",
              "      <td>130.280</td>\n",
              "      <td>131.450</td>\n",
              "      <td>129.90</td>\n",
              "      <td>131.23</td>\n",
              "      <td>50884452</td>\n",
              "      <td>120.056069</td>\n",
              "      <td>121.134251</td>\n",
              "      <td>119.705890</td>\n",
              "      <td>120.931516</td>\n",
              "      <td>50884452</td>\n",
              "      <td>0.0</td>\n",
              "      <td>1.0</td>\n",
              "    </tr>\n",
              "    <tr>\n",
              "      <th>3</th>\n",
              "      <td>3</td>\n",
              "      <td>AAPL</td>\n",
              "      <td>2015-06-01 00:00:00+00:00</td>\n",
              "      <td>130.535</td>\n",
              "      <td>131.390</td>\n",
              "      <td>130.05</td>\n",
              "      <td>131.20</td>\n",
              "      <td>32112797</td>\n",
              "      <td>120.291057</td>\n",
              "      <td>121.078960</td>\n",
              "      <td>119.844118</td>\n",
              "      <td>120.903870</td>\n",
              "      <td>32112797</td>\n",
              "      <td>0.0</td>\n",
              "      <td>1.0</td>\n",
              "    </tr>\n",
              "    <tr>\n",
              "      <th>4</th>\n",
              "      <td>4</td>\n",
              "      <td>AAPL</td>\n",
              "      <td>2015-06-02 00:00:00+00:00</td>\n",
              "      <td>129.960</td>\n",
              "      <td>130.655</td>\n",
              "      <td>129.32</td>\n",
              "      <td>129.86</td>\n",
              "      <td>33667627</td>\n",
              "      <td>119.761181</td>\n",
              "      <td>120.401640</td>\n",
              "      <td>119.171406</td>\n",
              "      <td>119.669029</td>\n",
              "      <td>33667627</td>\n",
              "      <td>0.0</td>\n",
              "      <td>1.0</td>\n",
              "    </tr>\n",
              "  </tbody>\n",
              "</table>\n",
              "</div>"
            ],
            "text/plain": [
              "   Unnamed: 0 symbol  ... divCash  splitFactor\n",
              "0           0   AAPL  ...     0.0          1.0\n",
              "1           1   AAPL  ...     0.0          1.0\n",
              "2           2   AAPL  ...     0.0          1.0\n",
              "3           3   AAPL  ...     0.0          1.0\n",
              "4           4   AAPL  ...     0.0          1.0\n",
              "\n",
              "[5 rows x 15 columns]"
            ]
          },
          "metadata": {
            "tags": []
          },
          "execution_count": 3
        }
      ]
    },
    {
      "cell_type": "code",
      "metadata": {
        "id": "uu_v5SQXq207",
        "outputId": "7e87b990-72cd-4e0b-9128-dfa8e3402f8e",
        "colab": {
          "base_uri": "https://localhost:8080/",
          "height": 34
        }
      },
      "source": [
        "#Shape of the data\n",
        "df.shape"
      ],
      "execution_count": 4,
      "outputs": [
        {
          "output_type": "execute_result",
          "data": {
            "text/plain": [
              "(1258, 15)"
            ]
          },
          "metadata": {
            "tags": []
          },
          "execution_count": 4
        }
      ]
    },
    {
      "cell_type": "code",
      "metadata": {
        "id": "qg6TnIP2q20_"
      },
      "source": [
        "df1=df.reset_index()['close']"
      ],
      "execution_count": 5,
      "outputs": []
    },
    {
      "cell_type": "code",
      "metadata": {
        "id": "D1So-gdwq21D",
        "outputId": "7a7e225d-78fb-473f-b8eb-8576f6a1aebb",
        "colab": {
          "base_uri": "https://localhost:8080/",
          "height": 221
        }
      },
      "source": [
        "df1"
      ],
      "execution_count": 6,
      "outputs": [
        {
          "output_type": "execute_result",
          "data": {
            "text/plain": [
              "0       132.045\n",
              "1       131.780\n",
              "2       130.280\n",
              "3       130.535\n",
              "4       129.960\n",
              "         ...   \n",
              "1253    314.960\n",
              "1254    313.140\n",
              "1255    319.230\n",
              "1256    316.850\n",
              "1257    318.890\n",
              "Name: close, Length: 1258, dtype: float64"
            ]
          },
          "metadata": {
            "tags": []
          },
          "execution_count": 6
        }
      ]
    },
    {
      "cell_type": "code",
      "metadata": {
        "id": "ksgfLDIDq21L",
        "outputId": "8d7c5aaa-af0c-4be2-819c-c9f88092b9b5",
        "colab": {
          "base_uri": "https://localhost:8080/",
          "height": 282
        }
      },
      "source": [
        "#Import the visualization library\n",
        "import matplotlib.pyplot as plt\n",
        "%matplotlib inline\n",
        "plt.plot(df1)"
      ],
      "execution_count": 7,
      "outputs": [
        {
          "output_type": "execute_result",
          "data": {
            "text/plain": [
              "[<matplotlib.lines.Line2D at 0x7f601643def0>]"
            ]
          },
          "metadata": {
            "tags": []
          },
          "execution_count": 7
        },
        {
          "output_type": "display_data",
          "data": {
            "image/png": "[encoded data removed]",
            "text/plain": [
              "<Figure size 432x288 with 1 Axes>"
            ]
          },
          "metadata": {
            "tags": [],
            "needs_background": "light"
          }
        }
      ]
    },
    {
      "cell_type": "code",
      "metadata": {
        "id": "rMtKt-Clq21T"
      },
      "source": [
        "#LSTM is sensitive to scale of the data , So we apply MinMaxScaler\n",
        "from sklearn.preprocessing import MinMaxScaler\n",
        "sc=MinMaxScaler(feature_range=(0,1))\n",
        "df1=sc.fit_transform(np.array(df1).reshape(-1,1))"
      ],
      "execution_count": 8,
      "outputs": []
    },
    {
      "cell_type": "code",
      "metadata": {
        "id": "PGSpSYZZq21Z",
        "outputId": "f3e600b1-3de8-483f-e771-7f9c95735f45",
        "colab": {
          "base_uri": "https://localhost:8080/",
          "height": 136
        }
      },
      "source": [
        "df1"
      ],
      "execution_count": 9,
      "outputs": [
        {
          "output_type": "execute_result",
          "data": {
            "text/plain": [
              "array([[0.17607447],\n",
              "       [0.17495567],\n",
              "       [0.16862282],\n",
              "       ...,\n",
              "       [0.96635143],\n",
              "       [0.9563033 ],\n",
              "       [0.96491598]])"
            ]
          },
          "metadata": {
            "tags": []
          },
          "execution_count": 9
        }
      ]
    },
    {
      "cell_type": "code",
      "metadata": {
        "id": "cACNku6Fq21d"
      },
      "source": [
        "#Splitting the dataset in to train and test split\n",
        "train=int(len(df1)*0.70)\n",
        "test=len(df1)-train\n",
        "train_data,test_data=df1[0:train,:],df1[train:len(df1),:1]"
      ],
      "execution_count": 10,
      "outputs": []
    },
    {
      "cell_type": "code",
      "metadata": {
        "id": "f99Te6FurzIQ",
        "outputId": "217ce978-944e-4e69-9499-1d674feea101",
        "colab": {
          "base_uri": "https://localhost:8080/",
          "height": 34
        }
      },
      "source": [
        "train,test"
      ],
      "execution_count": 11,
      "outputs": [
        {
          "output_type": "execute_result",
          "data": {
            "text/plain": [
              "(880, 378)"
            ]
          },
          "metadata": {
            "tags": []
          },
          "execution_count": 11
        }
      ]
    },
    {
      "cell_type": "code",
      "metadata": {
        "id": "KGl9pXEDr1KM",
        "outputId": "23ffabb7-505c-4a49-9734-44da09377740",
        "colab": {
          "base_uri": "https://localhost:8080/",
          "height": 136
        }
      },
      "source": [
        "train_data[:7]"
      ],
      "execution_count": 13,
      "outputs": [
        {
          "output_type": "execute_result",
          "data": {
            "text/plain": [
              "array([[0.17607447],\n",
              "       [0.17495567],\n",
              "       [0.16862282],\n",
              "       [0.1696994 ],\n",
              "       [0.16727181],\n",
              "       [0.16794731],\n",
              "       [0.16473866]])"
            ]
          },
          "metadata": {
            "tags": []
          },
          "execution_count": 13
        }
      ]
    },
    {
      "cell_type": "code",
      "metadata": {
        "id": "dE4AyIGur4wR",
        "outputId": "153422ea-5d23-4179-d525-1c5af28bd71b",
        "colab": {
          "base_uri": "https://localhost:8080/",
          "height": 136
        }
      },
      "source": [
        "test_data[:7]"
      ],
      "execution_count": 14,
      "outputs": [
        {
          "output_type": "execute_result",
          "data": {
            "text/plain": [
              "array([[0.3657857 ],\n",
              "       [0.36494132],\n",
              "       [0.34598497],\n",
              "       [0.355822  ],\n",
              "       [0.35421768],\n",
              "       [0.38250443],\n",
              "       [0.37663599]])"
            ]
          },
          "metadata": {
            "tags": []
          },
          "execution_count": 14
        }
      ]
    },
    {
      "cell_type": "code",
      "metadata": {
        "id": "IvConT_Rr-IE"
      },
      "source": [
        "#Convert array of values in to dataset matrix\n",
        "def create_dataset(dataset,time_step=1):\n",
        "  data_x,data_y=[],[]\n",
        "  for i in range(len(dataset)-time_step-1):\n",
        "    a=dataset[i:(i+time_step),0]\n",
        "    data_x.append(a)\n",
        "    data_y.append(dataset[i+time_step,0])\n",
        "  return np.array(data_x),np.array(data_y)"
      ],
      "execution_count": 18,
      "outputs": []
    },
    {
      "cell_type": "code",
      "metadata": {
        "id": "gstKhYzJtRY6"
      },
      "source": [
        "time_step=100\n",
        "x_train,y_train=create_dataset(train_data,time_step)\n",
        "x_test,y_test=create_dataset(test_data,time_step)"
      ],
      "execution_count": 19,
      "outputs": []
    },
    {
      "cell_type": "code",
      "metadata": {
        "id": "fjWnnYLctlOX",
        "outputId": "5e3366aa-5f57-42c0-8f15-302c23405479",
        "colab": {
          "base_uri": "https://localhost:8080/",
          "height": 34
        }
      },
      "source": [
        "x_train.shape,y_train.shape"
      ],
      "execution_count": 20,
      "outputs": [
        {
          "output_type": "execute_result",
          "data": {
            "text/plain": [
              "((779, 100), (779,))"
            ]
          },
          "metadata": {
            "tags": []
          },
          "execution_count": 20
        }
      ]
    },
    {
      "cell_type": "code",
      "metadata": {
        "id": "rnt3Wl2stzV2",
        "outputId": "1ad12634-4bd6-46bb-c3b4-cc9cff18d3be",
        "colab": {
          "base_uri": "https://localhost:8080/",
          "height": 34
        }
      },
      "source": [
        "x_test.shape,y_test.shape"
      ],
      "execution_count": 21,
      "outputs": [
        {
          "output_type": "execute_result",
          "data": {
            "text/plain": [
              "((277, 100), (277,))"
            ]
          },
          "metadata": {
            "tags": []
          },
          "execution_count": 21
        }
      ]
    },
    {
      "cell_type": "code",
      "metadata": {
        "id": "thGaX5xut33F"
      },
      "source": [
        "# reshape input to be [samples, time steps, features] which is required for LSTM\n",
        "X_train =x_train.reshape(x_train.shape[0],x_train.shape[1] , 1)\n",
        "X_test = x_test.reshape(x_test.shape[0],x_test.shape[1] , 1)"
      ],
      "execution_count": 22,
      "outputs": []
    },
    {
      "cell_type": "code",
      "metadata": {
        "id": "IzTWy5K0uP-9"
      },
      "source": [
        "#Create a LSTM model \n",
        "import tensorflow as tf\n",
        "from tensorflow.keras.models import Sequential\n",
        "from tensorflow.keras.layers import LSTM\n",
        "from tensorflow.keras.layers import Dense"
      ],
      "execution_count": 26,
      "outputs": []
    },
    {
      "cell_type": "code",
      "metadata": {
        "id": "Y_XJ4NRsucFE"
      },
      "source": [
        "#Intialize the model\n",
        "model=Sequential()\n",
        "#Create an input layer\n",
        "model.add(LSTM(units=50,return_sequences=True,input_shape=(100,1)))\n",
        "#Adding second layer\n",
        "model.add(LSTM(50,return_sequences=True))\n",
        "#Output layer\n",
        "model.add(LSTM(50))\n",
        "model.add(Dense(1))\n",
        "model.compile(loss='mean_squared_error',optimizer='adam')"
      ],
      "execution_count": 28,
      "outputs": []
    },
    {
      "cell_type": "code",
      "metadata": {
        "id": "nCfej0DGv7iW",
        "outputId": "bf19dc47-2979-4143-e74c-2d9adfe515d9",
        "colab": {
          "base_uri": "https://localhost:8080/",
          "height": 289
        }
      },
      "source": [
        "model.summary()"
      ],
      "execution_count": 29,
      "outputs": [
        {
          "output_type": "stream",
          "text": [
            "Model: \"sequential\"\n",
            "_________________________________________________________________\n",
            "Layer (type)                 Output Shape              Param #   \n",
            "=================================================================\n",
            "lstm (LSTM)                  (None, 100, 50)           10400     \n",
            "_________________________________________________________________\n",
            "lstm_1 (LSTM)                (None, 100, 50)           20200     \n",
            "_________________________________________________________________\n",
            "lstm_2 (LSTM)                (None, 50)                20200     \n",
            "_________________________________________________________________\n",
            "dense (Dense)                (None, 1)                 51        \n",
            "=================================================================\n",
            "Total params: 50,851\n",
            "Trainable params: 50,851\n",
            "Non-trainable params: 0\n",
            "_________________________________________________________________\n"
          ],
          "name": "stdout"
        }
      ]
    },
    {
      "cell_type": "code",
      "metadata": {
        "id": "cO5YRFSawEuf",
        "outputId": "68342ec5-8b12-4af5-c074-33fdf1fba9d4",
        "colab": {
          "base_uri": "https://localhost:8080/",
          "height": 1000
        }
      },
      "source": [
        "model.fit(X_train,y_train,validation_data=(X_test,y_test),epochs=50,verbose=1)"
      ],
      "execution_count": 30,
      "outputs": [
        {
          "output_type": "stream",
          "text": [
            "Epoch 1/50\n",
            "25/25 [==============================] - 1s 53ms/step - loss: 0.0108 - val_loss: 0.0080\n",
            "Epoch 2/50\n",
            "25/25 [==============================] - 0s 16ms/step - loss: 0.0011 - val_loss: 0.0044\n",
            "Epoch 3/50\n",
            "25/25 [==============================] - 0s 16ms/step - loss: 7.7765e-04 - val_loss: 0.0065\n",
            "Epoch 4/50\n",
            "25/25 [==============================] - 0s 16ms/step - loss: 7.7411e-04 - val_loss: 0.0053\n",
            "Epoch 5/50\n",
            "25/25 [==============================] - 0s 15ms/step - loss: 7.0400e-04 - val_loss: 0.0062\n",
            "Epoch 6/50\n",
            "25/25 [==============================] - 0s 16ms/step - loss: 6.9112e-04 - val_loss: 0.0080\n",
            "Epoch 7/50\n",
            "25/25 [==============================] - 0s 16ms/step - loss: 6.5507e-04 - val_loss: 0.0054\n",
            "Epoch 8/50\n",
            "25/25 [==============================] - 0s 16ms/step - loss: 6.4931e-04 - val_loss: 0.0065\n",
            "Epoch 9/50\n",
            "25/25 [==============================] - 0s 16ms/step - loss: 6.0915e-04 - val_loss: 0.0076\n",
            "Epoch 10/50\n",
            "25/25 [==============================] - 0s 16ms/step - loss: 6.1902e-04 - val_loss: 0.0046\n",
            "Epoch 11/50\n",
            "25/25 [==============================] - 0s 16ms/step - loss: 6.1240e-04 - val_loss: 0.0074\n",
            "Epoch 12/50\n",
            "25/25 [==============================] - 0s 16ms/step - loss: 5.7943e-04 - val_loss: 0.0040\n",
            "Epoch 13/50\n",
            "25/25 [==============================] - 0s 16ms/step - loss: 5.3686e-04 - val_loss: 0.0043\n",
            "Epoch 14/50\n",
            "25/25 [==============================] - 0s 16ms/step - loss: 5.6671e-04 - val_loss: 0.0043\n",
            "Epoch 15/50\n",
            "25/25 [==============================] - 0s 16ms/step - loss: 5.9382e-04 - val_loss: 0.0061\n",
            "Epoch 16/50\n",
            "25/25 [==============================] - 0s 16ms/step - loss: 5.9085e-04 - val_loss: 0.0027\n",
            "Epoch 17/50\n",
            "25/25 [==============================] - 0s 16ms/step - loss: 5.2774e-04 - val_loss: 0.0042\n",
            "Epoch 18/50\n",
            "25/25 [==============================] - 0s 16ms/step - loss: 4.8047e-04 - val_loss: 0.0034\n",
            "Epoch 19/50\n",
            "25/25 [==============================] - 0s 15ms/step - loss: 5.2996e-04 - val_loss: 0.0029\n",
            "Epoch 20/50\n",
            "25/25 [==============================] - 0s 16ms/step - loss: 5.2675e-04 - val_loss: 0.0087\n",
            "Epoch 21/50\n",
            "25/25 [==============================] - 0s 16ms/step - loss: 5.7024e-04 - val_loss: 0.0036\n",
            "Epoch 22/50\n",
            "25/25 [==============================] - 0s 16ms/step - loss: 4.3226e-04 - val_loss: 0.0027\n",
            "Epoch 23/50\n",
            "25/25 [==============================] - 0s 16ms/step - loss: 4.0983e-04 - val_loss: 0.0040\n",
            "Epoch 24/50\n",
            "25/25 [==============================] - 0s 16ms/step - loss: 4.2548e-04 - val_loss: 0.0025\n",
            "Epoch 25/50\n",
            "25/25 [==============================] - 0s 16ms/step - loss: 3.7688e-04 - val_loss: 0.0026\n",
            "Epoch 26/50\n",
            "25/25 [==============================] - 0s 16ms/step - loss: 3.9018e-04 - val_loss: 0.0025\n",
            "Epoch 27/50\n",
            "25/25 [==============================] - 0s 16ms/step - loss: 3.9059e-04 - val_loss: 0.0032\n",
            "Epoch 28/50\n",
            "25/25 [==============================] - 0s 17ms/step - loss: 3.6335e-04 - val_loss: 0.0018\n",
            "Epoch 29/50\n",
            "25/25 [==============================] - 0s 16ms/step - loss: 3.6334e-04 - val_loss: 0.0014\n",
            "Epoch 30/50\n",
            "25/25 [==============================] - 0s 16ms/step - loss: 3.7227e-04 - val_loss: 0.0020\n",
            "Epoch 31/50\n",
            "25/25 [==============================] - 0s 16ms/step - loss: 3.5436e-04 - val_loss: 0.0014\n",
            "Epoch 32/50\n",
            "25/25 [==============================] - 0s 16ms/step - loss: 3.7551e-04 - val_loss: 0.0024\n",
            "Epoch 33/50\n",
            "25/25 [==============================] - 0s 16ms/step - loss: 3.4019e-04 - val_loss: 0.0021\n",
            "Epoch 34/50\n",
            "25/25 [==============================] - 0s 16ms/step - loss: 3.5849e-04 - val_loss: 0.0016\n",
            "Epoch 35/50\n",
            "25/25 [==============================] - 0s 17ms/step - loss: 3.2207e-04 - val_loss: 0.0020\n",
            "Epoch 36/50\n",
            "25/25 [==============================] - 0s 16ms/step - loss: 3.0913e-04 - val_loss: 0.0023\n",
            "Epoch 37/50\n",
            "25/25 [==============================] - 0s 16ms/step - loss: 3.2153e-04 - val_loss: 0.0013\n",
            "Epoch 38/50\n",
            "25/25 [==============================] - 0s 16ms/step - loss: 3.2491e-04 - val_loss: 0.0022\n",
            "Epoch 39/50\n",
            "25/25 [==============================] - 0s 16ms/step - loss: 3.1338e-04 - val_loss: 0.0012\n",
            "Epoch 40/50\n",
            "25/25 [==============================] - 0s 16ms/step - loss: 2.9555e-04 - val_loss: 0.0013\n",
            "Epoch 41/50\n",
            "25/25 [==============================] - 0s 16ms/step - loss: 2.9609e-04 - val_loss: 0.0012\n",
            "Epoch 42/50\n",
            "25/25 [==============================] - 0s 16ms/step - loss: 3.1101e-04 - val_loss: 0.0050\n",
            "Epoch 43/50\n",
            "25/25 [==============================] - 0s 16ms/step - loss: 3.0140e-04 - val_loss: 0.0033\n",
            "Epoch 44/50\n",
            "25/25 [==============================] - 0s 16ms/step - loss: 3.2451e-04 - val_loss: 0.0012\n",
            "Epoch 45/50\n",
            "25/25 [==============================] - 0s 16ms/step - loss: 2.7000e-04 - val_loss: 0.0012\n",
            "Epoch 46/50\n",
            "25/25 [==============================] - 0s 16ms/step - loss: 2.5980e-04 - val_loss: 0.0011\n",
            "Epoch 47/50\n",
            "25/25 [==============================] - 0s 17ms/step - loss: 2.6351e-04 - val_loss: 0.0011\n",
            "Epoch 48/50\n",
            "25/25 [==============================] - 0s 16ms/step - loss: 2.3983e-04 - val_loss: 0.0010\n",
            "Epoch 49/50\n",
            "25/25 [==============================] - 0s 16ms/step - loss: 2.5698e-04 - val_loss: 0.0014\n",
            "Epoch 50/50\n",
            "25/25 [==============================] - 0s 16ms/step - loss: 2.2268e-04 - val_loss: 0.0011\n"
          ],
          "name": "stdout"
        },
        {
          "output_type": "execute_result",
          "data": {
            "text/plain": [
              "<tensorflow.python.keras.callbacks.History at 0x7f5f760865f8>"
            ]
          },
          "metadata": {
            "tags": []
          },
          "execution_count": 30
        }
      ]
    },
    {
      "cell_type": "code",
      "metadata": {
        "id": "MbC0uh98wciJ",
        "outputId": "e26c5d27-ad79-47fe-8998-7bcdf99226c4",
        "colab": {
          "base_uri": "https://localhost:8080/",
          "height": 35
        }
      },
      "source": [
        "tf.__version__"
      ],
      "execution_count": 31,
      "outputs": [
        {
          "output_type": "execute_result",
          "data": {
            "application/vnd.google.colaboratory.intrinsic+json": {
              "type": "string"
            },
            "text/plain": [
              "'2.3.0'"
            ]
          },
          "metadata": {
            "tags": []
          },
          "execution_count": 31
        }
      ]
    },
    {
      "cell_type": "code",
      "metadata": {
        "id": "X4XMWn7uwuu_"
      },
      "source": [
        "### Lets Do the prediction and check performance metrics\n",
        "train_predict=model.predict(X_train)\n",
        "test_predict=model.predict(X_test)"
      ],
      "execution_count": 32,
      "outputs": []
    },
    {
      "cell_type": "code",
      "metadata": {
        "id": "RNYoMsExxGyT"
      },
      "source": [
        "\n",
        "##Transformback to original form\n",
        "train_predict=sc.inverse_transform(train_predict)\n",
        "test_predict=sc.inverse_transform(test_predict)\n"
      ],
      "execution_count": 34,
      "outputs": []
    },
    {
      "cell_type": "code",
      "metadata": {
        "id": "FfZSrwoNxJqq",
        "outputId": "052a1802-54ff-41b6-e544-644bd571acfb",
        "colab": {
          "base_uri": "https://localhost:8080/",
          "height": 34
        }
      },
      "source": [
        "##Calculate RMSE performance metrics\n",
        "import math\n",
        "from sklearn.metrics import mean_squared_error\n",
        "math.sqrt(mean_squared_error(y_train,train_predict))"
      ],
      "execution_count": 35,
      "outputs": [
        {
          "output_type": "execute_result",
          "data": {
            "text/plain": [
              "149.72564448404796"
            ]
          },
          "metadata": {
            "tags": []
          },
          "execution_count": 35
        }
      ]
    },
    {
      "cell_type": "code",
      "metadata": {
        "id": "CCPunPAAxT-8",
        "outputId": "6d73ceaa-382e-4a32-e84b-49d70d8f8ef4",
        "colab": {
          "base_uri": "https://localhost:8080/",
          "height": 34
        }
      },
      "source": [
        "### Test Data RMSE\n",
        "math.sqrt(mean_squared_error(y_test,test_predict))"
      ],
      "execution_count": 37,
      "outputs": [
        {
          "output_type": "execute_result",
          "data": {
            "text/plain": [
              "246.97171031895536"
            ]
          },
          "metadata": {
            "tags": []
          },
          "execution_count": 37
        }
      ]
    },
    {
      "cell_type": "code",
      "metadata": {
        "id": "X8CYEKeNxeDm",
        "outputId": "2cc779b6-501e-4ee7-fbf9-a6b504d43a9d",
        "colab": {
          "base_uri": "https://localhost:8080/",
          "height": 265
        }
      },
      "source": [
        "### Plotting \n",
        "# shift train predictions for plotting\n",
        "import numpy\n",
        "look_back=100\n",
        "trainPredictPlot = numpy.empty_like(df1)\n",
        "trainPredictPlot[:, :] = np.nan\n",
        "trainPredictPlot[look_back:len(train_predict)+look_back, :] = train_predict\n",
        "# shift test predictions for plotting\n",
        "testPredictPlot = numpy.empty_like(df1)\n",
        "testPredictPlot[:, :] = numpy.nan\n",
        "testPredictPlot[len(train_predict)+(look_back*2)+1:len(df1)-1, :] = test_predict\n",
        "# plot baseline and predictions\n",
        "plt.plot(sc.inverse_transform(df1))\n",
        "plt.plot(trainPredictPlot)\n",
        "plt.plot(testPredictPlot)\n",
        "plt.show()"
      ],
      "execution_count": 40,
      "outputs": [
        {
          "output_type": "display_data",
          "data": {
            "image/png": "[encoded data removed]",
            "text/plain": [
              "<Figure size 432x288 with 1 Axes>"
            ]
          },
          "metadata": {
            "tags": [],
            "needs_background": "light"
          }
        }
      ]
    },
    {
      "cell_type": "code",
      "metadata": {
        "id": "W6eyV-Xlxk4P"
      },
      "source": [
        ""
      ],
      "execution_count": null,
      "outputs": []
    }
  ]
}